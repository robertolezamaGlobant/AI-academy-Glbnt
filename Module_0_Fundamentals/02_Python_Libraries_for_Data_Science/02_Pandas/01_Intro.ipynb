{
 "cells": [
  {
   "cell_type": "markdown",
   "metadata": {},
   "source": [
    "# Introduction:\n",
    "\n",
    "Pandas is an open-source library built on top of the Python programming language, designed for data manipulation and analysis. It offers easy-to-use data structures and functions for working with structured data, making it an essential tool for data scientists, analysts, and developers alike."
   ]
  },
  {
   "cell_type": "markdown",
   "metadata": {},
   "source": [
    "## Key Features of Pandas:\n",
    "\n",
    "1. **Data Structures:**\n",
    "    - **Series:** A one-dimensional array capable of holding any data type.\n",
    "    - **DataFrame:** A two-dimensional labeled data structure with columns of potentially different types.\n",
    "\n",
    "2. **Data Cleaning and Preparation:**\n",
    "    - Handling missing data.\n",
    "    - Data filtering and sorting.\n",
    "    - Removing duplicates.\n",
    "    - Data normalization and transformation.\n",
    "\n",
    "3. **Data Manipulation:**\n",
    "    - Indexing, slicing, and subsetting data.\n",
    "    - Applying functions to data.\n",
    "    - Combining and merging datasets.\n",
    "\n",
    "4. **Data Analysis:**\n",
    "    - Descriptive statistics.\n",
    "    - Grouping and aggregation.\n",
    "    - Time series analysis.\n",
    "    - Handling categorical data."
   ]
  },
  {
   "cell_type": "markdown",
   "metadata": {},
   "source": [
    "## Getting Started with Pandas:"
   ]
  },
  {
   "cell_type": "markdown",
   "metadata": {},
   "source": [
    "1. **Installation:**\n",
    "\n",
    "    - Install Pandas using pip:"
   ]
  },
  {
   "cell_type": "code",
   "metadata": {},
   "source": [
    "pip install pandas"
   ],
   "outputs": [],
   "execution_count": null
  },
  {
   "cell_type": "markdown",
   "metadata": {},
   "source": [
    "2. **Importing Pandas:**\n",
    "\n",
    "    - Import Pandas into your Python script:"
   ]
  },
  {
   "cell_type": "code",
   "metadata": {},
   "source": [
    "import pandas as pd"
   ],
   "outputs": [],
   "execution_count": null
  },
  {
   "cell_type": "markdown",
   "metadata": {},
   "source": [
    "3. **Loading Data:**\n",
    "\n",
    "    - Read data from various sources:\n",
    "        - CSV files: **_pd.read_csv('filename.csv')_**\n",
    "        - Excel files: **_pd.read_excel('filename.xlsx')_**\n",
    "        - SQL databases: **_pd.read_sql('SELECT * FROM table_name', connection)_**"
   ]
  },
  {
   "cell_type": "code",
   "metadata": {},
   "source": [
    "sample = pd.read_csv('sample_intro.csv')\n",
    "print(sample)"
   ],
   "outputs": [],
   "execution_count": null
  },
  {
   "cell_type": "markdown",
   "metadata": {},
   "source": [
    "4. **Exploring Data:**\n",
    "\n",
    "    - View the first few rows of a DataFrame: **_df.head()_**\n",
    "    - Get information about the DataFrame: **_df.info()_**\n",
    "    - Summary statistics: **_df.describe()_**\n"
   ]
  },
  {
   "cell_type": "code",
   "metadata": {
    "ExecuteTime": {
     "end_time": "2024-06-18T17:36:26.592810Z",
     "start_time": "2024-06-18T17:36:26.562423Z"
    }
   },
   "source": [
    "sample.describe()"
   ],
   "outputs": [
    {
     "data": {
      "text/plain": [
       "       Student_ID       Math    Science    English\n",
       "count    5.000000   5.000000   5.000000   5.000000\n",
       "mean     3.000000  73.000000  76.800000  77.400000\n",
       "std      1.581139  13.910428   8.258329   5.683309\n",
       "min      1.000000  63.000000  69.000000  68.000000\n",
       "25%      2.000000  64.000000  71.000000  77.000000\n",
       "50%      3.000000  69.000000  73.000000  79.000000\n",
       "75%      4.000000  72.000000  83.000000  80.000000\n",
       "max      5.000000  97.000000  88.000000  83.000000"
      ],
      "text/html": [
       "<div>\n",
       "<style scoped>\n",
       "    .dataframe tbody tr th:only-of-type {\n",
       "        vertical-align: middle;\n",
       "    }\n",
       "\n",
       "    .dataframe tbody tr th {\n",
       "        vertical-align: top;\n",
       "    }\n",
       "\n",
       "    .dataframe thead th {\n",
       "        text-align: right;\n",
       "    }\n",
       "</style>\n",
       "<table border=\"1\" class=\"dataframe\">\n",
       "  <thead>\n",
       "    <tr style=\"text-align: right;\">\n",
       "      <th></th>\n",
       "      <th>Student_ID</th>\n",
       "      <th>Math</th>\n",
       "      <th>Science</th>\n",
       "      <th>English</th>\n",
       "    </tr>\n",
       "  </thead>\n",
       "  <tbody>\n",
       "    <tr>\n",
       "      <th>count</th>\n",
       "      <td>5.000000</td>\n",
       "      <td>5.000000</td>\n",
       "      <td>5.000000</td>\n",
       "      <td>5.000000</td>\n",
       "    </tr>\n",
       "    <tr>\n",
       "      <th>mean</th>\n",
       "      <td>3.000000</td>\n",
       "      <td>73.000000</td>\n",
       "      <td>76.800000</td>\n",
       "      <td>77.400000</td>\n",
       "    </tr>\n",
       "    <tr>\n",
       "      <th>std</th>\n",
       "      <td>1.581139</td>\n",
       "      <td>13.910428</td>\n",
       "      <td>8.258329</td>\n",
       "      <td>5.683309</td>\n",
       "    </tr>\n",
       "    <tr>\n",
       "      <th>min</th>\n",
       "      <td>1.000000</td>\n",
       "      <td>63.000000</td>\n",
       "      <td>69.000000</td>\n",
       "      <td>68.000000</td>\n",
       "    </tr>\n",
       "    <tr>\n",
       "      <th>25%</th>\n",
       "      <td>2.000000</td>\n",
       "      <td>64.000000</td>\n",
       "      <td>71.000000</td>\n",
       "      <td>77.000000</td>\n",
       "    </tr>\n",
       "    <tr>\n",
       "      <th>50%</th>\n",
       "      <td>3.000000</td>\n",
       "      <td>69.000000</td>\n",
       "      <td>73.000000</td>\n",
       "      <td>79.000000</td>\n",
       "    </tr>\n",
       "    <tr>\n",
       "      <th>75%</th>\n",
       "      <td>4.000000</td>\n",
       "      <td>72.000000</td>\n",
       "      <td>83.000000</td>\n",
       "      <td>80.000000</td>\n",
       "    </tr>\n",
       "    <tr>\n",
       "      <th>max</th>\n",
       "      <td>5.000000</td>\n",
       "      <td>97.000000</td>\n",
       "      <td>88.000000</td>\n",
       "      <td>83.000000</td>\n",
       "    </tr>\n",
       "  </tbody>\n",
       "</table>\n",
       "</div>"
      ]
     },
     "execution_count": 3,
     "metadata": {},
     "output_type": "execute_result"
    }
   ],
   "execution_count": 3
  },
  {
   "cell_type": "markdown",
   "metadata": {},
   "source": [
    "5. **Data Cleaning:**\n",
    "\n",
    "    - Handling missing values:\n",
    "        - Drop rows/columns: **_df.dropna()_**\n",
    "        - Fill missing values: **_df.fillna(value)_**\n",
    "    - Removing duplicates: **_df.drop_duplicates()_**\n",
    "    - Data type conversion: **_df.astype(dtype)_**"
   ]
  },
  {
   "cell_type": "markdown",
   "metadata": {},
   "source": [
    "6. **Data Manipulation:**\n",
    "\n",
    "    - Selecting data:\n",
    "        - Select columns: **_df['column_name']_** or **_df.column_name_**\n",
    "        - Select rows: **_df.iloc[index]_** or **_df.loc[label]_**\n",
    "    - Filtering data: **_df[df['condition']]_**\n",
    "    - Adding new columns: **_df['new_column'] = ..._**"
   ]
  },
  {
   "cell_type": "code",
   "metadata": {
    "ExecuteTime": {
     "end_time": "2024-06-18T17:36:41.150328Z",
     "start_time": "2024-06-18T17:36:41.145674Z"
    }
   },
   "source": [
    "filteredStudent = sample.iloc[1]\n",
    "print(filteredStudent)"
   ],
   "outputs": [
    {
     "name": "stdout",
     "output_type": "stream",
     "text": [
      "Student_ID            2\n",
      "Name          Student_2\n",
      "Math                 97\n",
      "Science              73\n",
      "English              79\n",
      "Name: 1, dtype: object\n"
     ]
    }
   ],
   "execution_count": 4
  },
  {
   "cell_type": "markdown",
   "metadata": {},
   "source": [
    "7. **Data Analysis:**\n",
    "\n",
    "- Grouping data: **_df.groupby('column').agg({'column': 'function'})_**\n",
    "- Aggregating data: **_df.groupby('column').agg({'column': 'function'})_**\n",
    "- Pivot tables: **_pd.pivot_table(df, values='value', index='index', columns='columns', aggfunc='function')_**"
   ]
  },
  {
   "cell_type": "markdown",
   "metadata": {},
   "source": [
    "8. **Data Visualization:**\n",
    "\n",
    "For this step, in order to display the graph you will need to install and import the Matplotlib library. In the next topic we will cover this library in more detail. For now, you can follow the below instructions to install it."
   ]
  },
  {
   "cell_type": "code",
   "metadata": {
    "ExecuteTime": {
     "end_time": "2024-06-18T17:36:57.644792Z",
     "start_time": "2024-06-18T17:36:54.514735Z"
    }
   },
   "source": [
    "# Installing Matplotlib\n",
    "# !pip install in Jupyter is a shell command.\n",
    "# pip itself is not a Python statement, therefore not valid Syntax\n",
    "\n",
    "!pip install matplotlib"
   ],
   "outputs": [
    {
     "name": "stdout",
     "output_type": "stream",
     "text": [
      "Requirement already satisfied: matplotlib in /Users/roberto.lezama/Downloads/JetBrains/PycharmProjects/VE-PyCharm/lib/python3.12/site-packages (3.9.0)\r\n",
      "Requirement already satisfied: contourpy>=1.0.1 in /Users/roberto.lezama/Downloads/JetBrains/PycharmProjects/VE-PyCharm/lib/python3.12/site-packages (from matplotlib) (1.2.1)\r\n",
      "Requirement already satisfied: cycler>=0.10 in /Users/roberto.lezama/Downloads/JetBrains/PycharmProjects/VE-PyCharm/lib/python3.12/site-packages (from matplotlib) (0.12.1)\r\n",
      "Requirement already satisfied: fonttools>=4.22.0 in /Users/roberto.lezama/Downloads/JetBrains/PycharmProjects/VE-PyCharm/lib/python3.12/site-packages (from matplotlib) (4.53.0)\r\n",
      "Requirement already satisfied: kiwisolver>=1.3.1 in /Users/roberto.lezama/Downloads/JetBrains/PycharmProjects/VE-PyCharm/lib/python3.12/site-packages (from matplotlib) (1.4.5)\r\n",
      "Requirement already satisfied: numpy>=1.23 in /Users/roberto.lezama/Downloads/JetBrains/PycharmProjects/VE-PyCharm/lib/python3.12/site-packages (from matplotlib) (1.26.4)\r\n",
      "Requirement already satisfied: packaging>=20.0 in /Users/roberto.lezama/Downloads/JetBrains/PycharmProjects/VE-PyCharm/lib/python3.12/site-packages (from matplotlib) (24.1)\r\n",
      "Requirement already satisfied: pillow>=8 in /Users/roberto.lezama/Downloads/JetBrains/PycharmProjects/VE-PyCharm/lib/python3.12/site-packages (from matplotlib) (10.3.0)\r\n",
      "Requirement already satisfied: pyparsing>=2.3.1 in /Users/roberto.lezama/Downloads/JetBrains/PycharmProjects/VE-PyCharm/lib/python3.12/site-packages (from matplotlib) (3.1.2)\r\n",
      "Requirement already satisfied: python-dateutil>=2.7 in /Users/roberto.lezama/Downloads/JetBrains/PycharmProjects/VE-PyCharm/lib/python3.12/site-packages (from matplotlib) (2.9.0.post0)\r\n",
      "Requirement already satisfied: six>=1.5 in /Users/roberto.lezama/Downloads/JetBrains/PycharmProjects/VE-PyCharm/lib/python3.12/site-packages (from python-dateutil>=2.7->matplotlib) (1.16.0)\r\n",
      "\r\n",
      "\u001B[1m[\u001B[0m\u001B[34;49mnotice\u001B[0m\u001B[1;39;49m]\u001B[0m\u001B[39;49m A new release of pip is available: \u001B[0m\u001B[31;49m23.2.1\u001B[0m\u001B[39;49m -> \u001B[0m\u001B[32;49m24.0\u001B[0m\r\n",
      "\u001B[1m[\u001B[0m\u001B[34;49mnotice\u001B[0m\u001B[1;39;49m]\u001B[0m\u001B[39;49m To update, run: \u001B[0m\u001B[32;49mpip install --upgrade pip\u001B[0m\r\n"
     ]
    }
   ],
   "execution_count": 5
  },
  {
   "cell_type": "markdown",
   "metadata": {},
   "source": [
    "- Plotting with Pandas:\n",
    "    - Line plot: df.plot(kind='line')\n",
    "    - Histogram: df.plot(kind='hist')\n",
    "    - Scatter plot: df.plot(kind='scatter', x='x_column', y='y_column')"
   ]
  },
  {
   "metadata": {},
   "cell_type": "code",
   "outputs": [],
   "execution_count": null,
   "source": ""
  },
  {
   "cell_type": "code",
   "metadata": {
    "ExecuteTime": {
     "end_time": "2024-06-18T17:37:18.189623Z",
     "start_time": "2024-06-18T17:37:16.963630Z"
    }
   },
   "source": [
    "sample.plot(kind='scatter', x='Name', y='Math')"
   ],
   "outputs": [
    {
     "data": {
      "text/plain": [
       "<Axes: xlabel='Name', ylabel='Math'>"
      ]
     },
     "execution_count": 6,
     "metadata": {},
     "output_type": "execute_result"
    },
    {
     "data": {
      "text/plain": [
       "<Figure size 640x480 with 1 Axes>"
      ],
      "image/png": "[encoded data removed]"
     },
     "metadata": {},
     "output_type": "display_data"
    }
   ],
   "execution_count": 6
  },
  {
   "cell_type": "markdown",
   "metadata": {},
   "source": [
    "## Conclusion:\n",
    "\n",
    "Pandas provides a powerful and flexible toolkit for data analysis and manipulation in Python. By mastering its functionalities, you can efficiently handle, clean, analyze, and visualize data for various projects and applications."
   ]
  }
 ],
 "metadata": {
  "kernelspec": {
   "display_name": "Python 3",
   "language": "python",
   "name": "python3"
  },
  "language_info": {
   "codemirror_mode": {
    "name": "ipython",
    "version": 3
   },
   "file_extension": ".py",
   "mimetype": "text/x-python",
   "name": "python",
   "nbconvert_exporter": "python",
   "pygments_lexer": "ipython3",
   "version": "3.12.3"
  }
 },
 "nbformat": 4,
 "nbformat_minor": 2
}
