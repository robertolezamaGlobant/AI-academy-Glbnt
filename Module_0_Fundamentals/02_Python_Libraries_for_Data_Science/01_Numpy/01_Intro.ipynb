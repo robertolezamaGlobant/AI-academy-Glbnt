{
 "cells": [
  {
   "cell_type": "markdown",
   "metadata": {},
   "source": [
    "# Introduction:\n",
    "NumPy, short for Numerical Python, is a fundamental package for scientific computing in Python. It provides support for multi-dimensional arrays and matrices, along with a wide range of mathematical functions to operate on these arrays efficiently. NumPy is an essential tool for numerical computations and data analysis in Python.\n",
    "\n",
    "## Key Features:\n",
    "\n",
    "1. **Multi-dimensional Arrays:** NumPy provides a powerful array object called numpy.ndarray, which represents multi-dimensional arrays of homogeneous data types. These arrays are efficient for storing and manipulating large datasets.\n",
    "2. **Vectorized Operations:** NumPy enables vectorized operations on arrays, allowing mathematical operations to be performed efficiently without the need for explicit looping in Python.\n",
    "3. **Broadcasting:** NumPy's broadcasting capability enables operations between arrays of different shapes and sizes, making it easier to write concise and readable code.\n",
    "4. **Linear Algebra:** NumPy includes a rich set of functions for performing various linear algebra operations such as matrix multiplication, eigenvalue decomposition, and solving linear equations.\n",
    "5. **Random Number Generation:** NumPy provides functions for generating random numbers from various probability distributions, which are useful for simulations and statistical applications.\n",
    "6. **Integration with other Libraries:** NumPy seamlessly integrates with other scientific computing libraries in Python such as SciPy, pandas, and Matplotlib, forming a powerful ecosystem for data analysis and visualization."
   ]
  },
  {
   "cell_type": "markdown",
   "metadata": {},
   "source": [
    "**How to Use NumPy:**\n",
    "\n",
    "1. **Installation:** NumPy can be installed using Python package managers like pip or conda. For example:"
   ]
  },
  {
   "cell_type": "code",
   "metadata": {},
   "source": [
    "pip install numpy"
   ],
   "outputs": [],
   "execution_count": null
  },
  {
   "cell_type": "markdown",
   "metadata": {},
   "source": [
    "2. **Importing NumPy:** Once installed, NumPy can be imported into Python scripts or interactive sessions using the following import statement:"
   ]
  },
  {
   "cell_type": "code",
   "metadata": {
    "ExecuteTime": {
     "end_time": "2024-06-18T17:30:36.123204Z",
     "start_time": "2024-06-18T17:30:35.736716Z"
    }
   },
   "source": [
    "import numpy as np"
   ],
   "outputs": [],
   "execution_count": 1
  },
  {
   "cell_type": "markdown",
   "metadata": {},
   "source": [
    "3. **Creating Arrays:** NumPy arrays can be created using functions like numpy.array(), numpy.zeros(), numpy.ones(), numpy.arange(), etc."
   ]
  },
  {
   "cell_type": "code",
   "metadata": {
    "ExecuteTime": {
     "end_time": "2024-06-18T17:30:40.888313Z",
     "start_time": "2024-06-18T17:30:40.882828Z"
    }
   },
   "source": [
    "import numpy as np\n",
    "\n",
    "# Create a 1D array\n",
    "arr1d = np.array([1, 2, 3, 4, 5])\n",
    "\n",
    "# Create a 2D array\n",
    "arr2d = np.array([[1, 2, 3], [4, 5, 6]])\n",
    "\n",
    "print(arr1d)\n",
    "print(arr2d)"
   ],
   "outputs": [
    {
     "name": "stdout",
     "output_type": "stream",
     "text": [
      "[1 2 3 4 5]\n",
      "[[1 2 3]\n",
      " [4 5 6]]\n"
     ]
    }
   ],
   "execution_count": 2
  },
  {
   "cell_type": "markdown",
   "metadata": {},
   "source": [
    "4. **Array Operations:** NumPy supports various operations on arrays such as arithmetic operations, array indexing and slicing, aggregation functions, and more."
   ]
  },
  {
   "cell_type": "code",
   "metadata": {
    "ExecuteTime": {
     "end_time": "2024-06-18T17:31:19.349880Z",
     "start_time": "2024-06-18T17:31:19.345299Z"
    }
   },
   "source": [
    "import numpy as np\n",
    "\n",
    "arr = np.array([1, 2, 3, 4, 5])\n",
    "\n",
    "# Arithmetic operations\n",
    "result = arr + 10\n",
    "print(result)\n",
    "\n",
    "# Array indexing and slicing\n",
    "subset = arr[1:4]\n",
    "print(subset)\n",
    "\n",
    "# Aggregation functions\n",
    "mean_value = np.mean(arr)\n",
    "print(mean_value)\n"
   ],
   "outputs": [
    {
     "name": "stdout",
     "output_type": "stream",
     "text": [
      "[11 12 13 14 15]\n",
      "[2 3 4]\n",
      "3.0\n"
     ]
    }
   ],
   "execution_count": 4
  },
  {
   "cell_type": "markdown",
   "metadata": {},
   "source": [
    "5- **Linear Algebra Operations:** NumPy provides functions for performing linear algebra operations like matrix multiplication, matrix inversion, eigenvalue decomposition, etc."
   ]
  },
  {
   "cell_type": "code",
   "metadata": {
    "ExecuteTime": {
     "end_time": "2024-06-18T17:32:15.777132Z",
     "start_time": "2024-06-18T17:32:15.770190Z"
    }
   },
   "source": [
    "import numpy as np\n",
    "\n",
    "A = np.array([[1, 2], [3, 4]])\n",
    "B = np.array([[5, 6], [7, 8]])\n",
    "\n",
    "# Matrix multiplication\n",
    "C = np.dot(A, B)\n",
    "print(C)\n",
    "\n",
    "# Matrix inversion\n",
    "A_inv = np.linalg.inv(A)\n",
    "print(A_inv)\n"
   ],
   "outputs": [
    {
     "name": "stdout",
     "output_type": "stream",
     "text": [
      "[[19 22]\n",
      " [43 50]]\n",
      "[[-2.   1. ]\n",
      " [ 1.5 -0.5]]\n"
     ]
    }
   ],
   "execution_count": 5
  },
  {
   "cell_type": "markdown",
   "metadata": {},
   "source": [
    "## Conclusion:\n",
    "\n",
    "NumPy is an essential library for numerical computing in Python, offering powerful tools for array manipulation, mathematical operations, and linear algebra. Its simplicity, efficiency, and extensive functionality make it a preferred choice for scientific computing and data analysis tasks."
   ]
  }
 ],
 "metadata": {
  "kernelspec": {
   "display_name": "Python 3",
   "language": "python",
   "name": "python3"
  },
  "language_info": {
   "codemirror_mode": {
    "name": "ipython",
    "version": 3
   },
   "file_extension": ".py",
   "mimetype": "text/x-python",
   "name": "python",
   "nbconvert_exporter": "python",
   "pygments_lexer": "ipython3",
   "version": "3.12.3"
  }
 },
 "nbformat": 4,
 "nbformat_minor": 2
}
