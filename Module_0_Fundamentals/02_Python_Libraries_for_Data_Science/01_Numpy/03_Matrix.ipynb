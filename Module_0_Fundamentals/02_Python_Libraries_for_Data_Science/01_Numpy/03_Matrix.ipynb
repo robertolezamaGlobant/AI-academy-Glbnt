{
 "cells": [
  {
   "cell_type": "markdown",
   "metadata": {},
   "source": [
    "# Understanding Matrices:\n",
    "\n",
    "In mathematics, a matrix is a rectangular array of numbers arranged in rows and columns. Matrices are extensively used in various fields such as physics, engineering, computer graphics, and machine learning. NumPy provides robust support for working with matrices through its array objects and specialized functions."
   ]
  },
  {
   "cell_type": "markdown",
   "metadata": {},
   "source": [
    "### Creating Matrices:\n",
    "\n",
    "In NumPy, matrices are represented as 2D arrays. You can create matrices using the np.array() function or specialized functions like np.zeros(), np.ones(), and np.random.rand():"
   ]
  },
  {
   "cell_type": "code",
   "metadata": {
    "vscode": {
     "languageId": "plaintext"
    }
   },
   "source": [
    "import numpy as np\n",
    "\n",
    "# Create a 2x3 matrix\n",
    "matrix = np.array([[1, 2, 3], [4, 5, 6]])\n",
    "print(matrix)"
   ],
   "outputs": [],
   "execution_count": null
  },
  {
   "cell_type": "markdown",
   "metadata": {},
   "source": [
    "### Matrix Operations:\n",
    "\n",
    "1. **Matrix Multiplication:**\n",
    "Matrix multiplication is a fundamental operation in linear algebra. In NumPy, you can use the np.dot() function or the @ operator for matrix multiplication:"
   ]
  },
  {
   "cell_type": "code",
   "metadata": {
    "vscode": {
     "languageId": "plaintext"
    },
    "ExecuteTime": {
     "end_time": "2024-06-18T17:34:43.045911Z",
     "start_time": "2024-06-18T17:34:43.040686Z"
    }
   },
   "source": [
    "A = np.array([[1, 2], [3, 4]])\n",
    "B = np.array([[5, 6], [7, 8]])\n",
    "\n",
    "# Matrix multiplication using np.dot()\n",
    "C = np.dot(A, B)\n",
    "print(C)\n",
    "\n",
    "# Matrix multiplication using @ operator\n",
    "C = A @ B\n",
    "print(C)"
   ],
   "outputs": [
    {
     "name": "stdout",
     "output_type": "stream",
     "text": [
      "[[19 22]\n",
      " [43 50]]\n",
      "[[19 22]\n",
      " [43 50]]\n"
     ]
    }
   ],
   "execution_count": 3
  },
  {
   "cell_type": "markdown",
   "metadata": {},
   "source": [
    "2. **Matrix Transposition:**\n",
    "\n",
    "Matrix transposition involves swapping the rows and columns of a matrix. NumPy provides the np.transpose() function to transpose a matrix:"
   ]
  },
  {
   "cell_type": "code",
   "metadata": {
    "vscode": {
     "languageId": "plaintext"
    },
    "ExecuteTime": {
     "end_time": "2024-06-18T17:34:55.448037Z",
     "start_time": "2024-06-18T17:34:55.443716Z"
    }
   },
   "source": [
    "A = np.array([[1, 2], [3, 4]])\n",
    "\n",
    "# Transpose of matrix A\n",
    "A_transpose = np.transpose(A)\n",
    "print(A_transpose)"
   ],
   "outputs": [
    {
     "name": "stdout",
     "output_type": "stream",
     "text": [
      "[[1 3]\n",
      " [2 4]]\n"
     ]
    }
   ],
   "execution_count": 4
  },
  {
   "cell_type": "markdown",
   "metadata": {},
   "source": [
    "3. **Matrix Inversion:**\n",
    "\n",
    "Matrix inversion is the process of finding another matrix that, when multiplied with the original matrix, results in the identity matrix. NumPy's linear algebra module (np.linalg) provides the np.linalg.inv() function to compute the inverse of a matrix:"
   ]
  },
  {
   "cell_type": "code",
   "metadata": {
    "vscode": {
     "languageId": "plaintext"
    },
    "ExecuteTime": {
     "end_time": "2024-06-18T17:35:03.946747Z",
     "start_time": "2024-06-18T17:35:03.942249Z"
    }
   },
   "source": [
    "A = np.array([[1, 2], [3, 4]])\n",
    "\n",
    "# Inverse of matrix A\n",
    "A_inv = np.linalg.inv(A)\n",
    "print(A_inv)"
   ],
   "outputs": [
    {
     "name": "stdout",
     "output_type": "stream",
     "text": [
      "[[-2.   1. ]\n",
      " [ 1.5 -0.5]]\n"
     ]
    }
   ],
   "execution_count": 5
  },
  {
   "cell_type": "markdown",
   "metadata": {},
   "source": [
    "4. **Element-wise Operations:**\n",
    "\n",
    "NumPy allows you to perform element-wise operations on matrices, similar to arrays:"
   ]
  },
  {
   "cell_type": "code",
   "metadata": {
    "vscode": {
     "languageId": "plaintext"
    },
    "ExecuteTime": {
     "end_time": "2024-06-18T17:35:18.611572Z",
     "start_time": "2024-06-18T17:35:18.606619Z"
    }
   },
   "source": [
    "matrix = np.array([[1, 2], [3, 4]])\n",
    "\n",
    "# Element-wise square of matrix elements\n",
    "matrix_squared = matrix ** 2\n",
    "print(matrix_squared)\n",
    "\n",
    "# Element-wise square root of matrix elements\n",
    "matrix_sqrt = np.sqrt(matrix)\n",
    "print(matrix_sqrt)"
   ],
   "outputs": [
    {
     "name": "stdout",
     "output_type": "stream",
     "text": [
      "[[ 1  4]\n",
      " [ 9 16]]\n",
      "[[1.         1.41421356]\n",
      " [1.73205081 2.        ]]\n"
     ]
    }
   ],
   "execution_count": 6
  },
  {
   "cell_type": "markdown",
   "metadata": {},
   "source": [
    "# Conclusion:\n",
    "\n",
    "Mastering matrix operations with NumPy is essential for various scientific and engineering applications. By understanding how to create matrices and perform operations such as multiplication, transposition, inversion, and element-wise operations, you'll be well-equipped to handle complex mathematical computations and data manipulation tasks effectively."
   ]
  }
 ],
 "metadata": {
  "language_info": {
   "name": "python"
  },
  "kernelspec": {
   "name": "python3",
   "language": "python",
   "display_name": "Python 3 (ipykernel)"
  }
 },
 "nbformat": 4,
 "nbformat_minor": 2
}
