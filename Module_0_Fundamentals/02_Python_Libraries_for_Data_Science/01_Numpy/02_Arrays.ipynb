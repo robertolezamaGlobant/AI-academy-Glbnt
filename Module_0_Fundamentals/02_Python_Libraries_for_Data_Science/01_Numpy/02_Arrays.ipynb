{
 "cells": [
  {
   "cell_type": "markdown",
   "metadata": {},
   "source": [
    "# Recap:\n",
    "\n",
    "NumPy is a Python library that is widely used for numerical computing and data analysis tasks. One of its core features is the manipulation of arrays and matrices. In this guide, we'll explore how to create, manipulate, and perform basic operations on arrays and matrices using NumPy."
   ]
  },
  {
   "cell_type": "markdown",
   "metadata": {},
   "source": [
    "### Creating Arrays:\n",
    "\n",
    "NumPy arrays are homogeneous, multi-dimensional data structures that can store elements of the same data type. Here's how you can create arrays:"
   ]
  },
  {
   "cell_type": "code",
   "metadata": {
    "vscode": {
     "languageId": "plaintext"
    }
   },
   "source": [
    "import numpy as np\n",
    "\n",
    "# Create a 1D array\n",
    "arr1d = np.array([1, 2, 3, 4, 5])\n",
    "print(arr1d)\n",
    "\n",
    "# Create a 2D array (matrix)\n",
    "arr2d = np.array([[1, 2, 3], [4, 5, 6]])\n",
    "print(arr2d)\n"
   ],
   "outputs": [],
   "execution_count": null
  },
  {
   "cell_type": "markdown",
   "metadata": {},
   "source": [
    "### Array Attributes:\n",
    "\n",
    "Arrays have several attributes that provide information about their shape, size, and data type:"
   ]
  },
  {
   "cell_type": "code",
   "metadata": {
    "vscode": {
     "languageId": "plaintext"
    }
   },
   "source": [
    "print(arr1d.shape)   # Shape of the array\n",
    "print(arr2d.ndim)    # Number of dimensions\n",
    "print(arr2d.dtype)   # Data type of elements"
   ],
   "outputs": [],
   "execution_count": null
  },
  {
   "cell_type": "markdown",
   "metadata": {},
   "source": [
    "### Accessing Elements:\n",
    "\n",
    "You can access elements of an array using indexing and slicing:"
   ]
  },
  {
   "cell_type": "code",
   "metadata": {
    "vscode": {
     "languageId": "plaintext"
    },
    "ExecuteTime": {
     "end_time": "2024-06-18T17:33:33.230162Z",
     "start_time": "2024-06-18T17:33:33.225137Z"
    }
   },
   "source": [
    "print(arr1d[0])         # Accessing the first element\n",
    "print(arr2d[1, 2])      # Accessing an element in a 2D array\n",
    "print(arr1d[2:4])       # Slicing a 1D array\n",
    "print(arr2d[:, 1:])     # Slicing rows and columns of a 2D array"
   ],
   "outputs": [
    {
     "name": "stdout",
     "output_type": "stream",
     "text": [
      "1\n",
      "6\n",
      "[3 4]\n",
      "[[2 3]\n",
      " [5 6]]\n"
     ]
    }
   ],
   "execution_count": 4
  },
  {
   "cell_type": "markdown",
   "metadata": {},
   "source": [
    "### Array Operations:\n",
    "\n",
    "NumPy allows you to perform element-wise operations on arrays without using explicit loops:"
   ]
  },
  {
   "cell_type": "code",
   "metadata": {
    "vscode": {
     "languageId": "plaintext"
    },
    "ExecuteTime": {
     "end_time": "2024-06-18T17:33:55.763935Z",
     "start_time": "2024-06-18T17:33:55.757832Z"
    }
   },
   "source": [
    "arr = np.array([1, 2, 3, 4, 5])\n",
    "\n",
    "# Scalar addition\n",
    "result = arr + 10\n",
    "print(result)\n",
    "\n",
    "# Element-wise multiplication\n",
    "result = arr * 2\n",
    "print(result)\n",
    "\n",
    "# Element-wise square root\n",
    "result = np.sqrt(arr)\n",
    "print(result)"
   ],
   "outputs": [
    {
     "name": "stdout",
     "output_type": "stream",
     "text": [
      "[11 12 13 14 15]\n",
      "[ 2  4  6  8 10]\n",
      "[1.         1.41421356 1.73205081 2.         2.23606798]\n"
     ]
    }
   ],
   "execution_count": 5
  },
  {
   "metadata": {},
   "cell_type": "code",
   "outputs": [],
   "execution_count": null,
   "source": ""
  }
 ],
 "metadata": {
  "language_info": {
   "name": "python"
  },
  "kernelspec": {
   "name": "python3",
   "language": "python",
   "display_name": "Python 3 (ipykernel)"
  }
 },
 "nbformat": 4,
 "nbformat_minor": 2
}
