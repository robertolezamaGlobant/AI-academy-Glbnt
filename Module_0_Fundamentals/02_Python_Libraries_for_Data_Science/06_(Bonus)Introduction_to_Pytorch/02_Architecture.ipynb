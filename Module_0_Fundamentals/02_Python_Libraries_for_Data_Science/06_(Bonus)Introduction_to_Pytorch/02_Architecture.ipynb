{
 "cells": [
  {
   "cell_type": "markdown",
   "metadata": {},
   "source": [
    "# TensorFlow Architecture"
   ]
  },
  {
   "cell_type": "markdown",
   "metadata": {},
   "source": [
    "1. **Layers API**\n",
    "\n",
    "    The Layers API allows you to build neural networks layer by layer. It provides a higher level of abstraction over the raw computational graph."
   ]
  },
  {
   "cell_type": "code",
   "metadata": {},
   "source": [
    "from tensorflow.keras import layers\n",
    "\n",
    "# Create a dense layer\n",
    "dense_layer = layers.Dense(units=64, activation='relu')"
   ],
   "outputs": [],
   "execution_count": null
  },
  {
   "cell_type": "markdown",
   "metadata": {},
   "source": [
    "2. **Sequential Model**\n",
    "\n",
    "    The Sequential model is a linear stack of layers. It is suitable for most feedforward deep learning models."
   ]
  },
  {
   "cell_type": "code",
   "metadata": {},
   "source": [
    "from tensorflow.keras import models\n",
    "\n",
    "# Define a Sequential model\n",
    "model = models.Sequential([\n",
    "    layers.Dense(64, activation='relu', input_shape=(784,)),\n",
    "    layers.Dense(64, activation='relu'),\n",
    "    layers.Dense(10, activation='softmax')\n",
    "])"
   ],
   "outputs": [],
   "execution_count": null
  },
  {
   "cell_type": "markdown",
   "metadata": {},
   "source": [
    "3. **Functional API**\n",
    "\n",
    "    The Functional API is more flexible and allows for the creation of complex models with non-linear topology."
   ]
  },
  {
   "cell_type": "code",
   "metadata": {},
   "source": [
    "from tensorflow.keras import Model, Input\n",
    "\n",
    "# Define the input\n",
    "inputs = Input(shape=(784,))\n",
    "\n",
    "# Define the layers\n",
    "x = layers.Dense(64, activation='relu')(inputs)\n",
    "x = layers.Dense(64, activation='relu')(x)\n",
    "outputs = layers.Dense(10, activation='softmax')(x)\n",
    "\n",
    "# Create the model\n",
    "model = Model(inputs=inputs, outputs=outputs)"
   ],
   "outputs": [],
   "execution_count": null
  },
  {
   "cell_type": "markdown",
   "metadata": {},
   "source": [
    "4. **Compiling the Model**\n",
    "\n",
    "    Before training, you need to compile the model. Compilation specifies the optimizer, loss function, and metrics."
   ]
  },
  {
   "cell_type": "code",
   "metadata": {},
   "source": [
    "model.compile(optimizer='adam',\n",
    "              loss='sparse_categorical_crossentropy',\n",
    "              metrics=['accuracy'])"
   ],
   "outputs": [],
   "execution_count": null
  },
  {
   "cell_type": "markdown",
   "metadata": {},
   "source": [
    "5. **Training the Model**\n",
    "\n",
    "    You can train the model using the **_fit_** method."
   ]
  },
  {
   "cell_type": "code",
   "metadata": {},
   "source": [
    "# Assuming `train_images` and `train_labels` are the training data and labels\n",
    "model.fit(train_images, train_labels, epochs=5, batch_size=32, validation_split=0.2)"
   ],
   "outputs": [],
   "execution_count": null
  },
  {
   "cell_type": "markdown",
   "metadata": {},
   "source": [
    "6. **Evaluating the Model**\n",
    "\n",
    "    After training, you can evaluate the model on test data."
   ]
  },
  {
   "cell_type": "code",
   "metadata": {},
   "source": [
    "# Assuming `test_images` and `test_labels` are the test data and labels\n",
    "test_loss, test_acc = model.evaluate(test_images, test_labels)\n",
    "print('Test accuracy:', test_acc)"
   ],
   "outputs": [],
   "execution_count": null
  },
  {
   "cell_type": "markdown",
   "metadata": {},
   "source": [
    "7. **Making Predictions**\n",
    "\n",
    "    You can use the **_predict_** method to make predictions with the trained model."
   ]
  },
  {
   "cell_type": "code",
   "metadata": {},
   "source": [
    "predictions = model.predict(test_images)\n",
    "print(predictions)"
   ],
   "outputs": [],
   "execution_count": null
  },
  {
   "cell_type": "markdown",
   "metadata": {},
   "source": [
    "### Conclusion\n",
    "\n",
    "This tutorial covered the basic concepts and architecture of TensorFlow, including tensors, variables, operations, and the Layers API. We also walked through a complete example of building, training, and evaluating a neural network using TensorFlow and Keras."
   ]
  }
 ],
 "metadata": {
  "language_info": {
   "name": "python"
  },
  "kernelspec": {
   "name": "python3",
   "language": "python",
   "display_name": "Python 3 (ipykernel)"
  }
 },
 "nbformat": 4,
 "nbformat_minor": 2
}
