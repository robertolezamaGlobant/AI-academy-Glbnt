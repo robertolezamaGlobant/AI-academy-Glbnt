{
 "cells": [
  {
   "cell_type": "markdown",
   "metadata": {},
   "source": [
    "# Introduction\n",
    "TensorFlow is an open-source machine learning framework developed by Google. It is widely used for building and deploying machine learning models, from simple linear regression to complex deep learning architectures."
   ]
  },
  {
   "cell_type": "markdown",
   "metadata": {},
   "source": [
    "### Installation\n",
    "\n",
    "To install TensorFlow, you can use pip. It is recommended to install it in a virtual environment."
   ]
  },
  {
   "cell_type": "code",
   "metadata": {},
   "source": [
    "pip install tensorflow"
   ],
   "outputs": [],
   "execution_count": null
  },
  {
   "cell_type": "markdown",
   "metadata": {},
   "source": [
    "### Basic Concepts\n",
    "\n",
    "1. **Tensors**\n",
    "\n",
    "    Tensors are the fundamental data structures in TensorFlow. They are multi-dimensional arrays that allow you to represent data."
   ]
  },
  {
   "cell_type": "code",
   "metadata": {},
   "source": [
    "import tensorflow as tf\n",
    "\n",
    "# Create a constant tensor\n",
    "tensor = tf.constant([[1, 2], [3, 4]])\n",
    "print(tensor)"
   ],
   "outputs": [],
   "execution_count": null
  },
  {
   "cell_type": "markdown",
   "metadata": {},
   "source": [
    "2. **Graphs and Sessions**\n",
    "\n",
    "    TensorFlow operates by constructing a computational graph. Nodes in the graph represent operations, while edges represent the data (tensors) flowing between operations.\n",
    "\n",
    "    Note: As of TensorFlow 2.x, eager execution is enabled by default, which means operations are evaluated immediately without needing to create a session."
   ]
  },
  {
   "cell_type": "markdown",
   "metadata": {},
   "source": [
    "3. **Variables**\n",
    "\n",
    "    Variables are used to store mutable state in TensorFlow. They are often used for parameters in machine learning models."
   ]
  },
  {
   "cell_type": "code",
   "metadata": {},
   "source": [
    "# Create a variable tensor\n",
    "variable = tf.Variable([[1.0, 2.0], [3.0, 4.0]])\n",
    "print(variable)"
   ],
   "outputs": [],
   "execution_count": null
  },
  {
   "cell_type": "markdown",
   "metadata": {},
   "source": [
    "4. **Operations**\n",
    "\n",
    "    Operations (ops) are nodes in the computational graph that represent computations."
   ]
  },
  {
   "cell_type": "code",
   "metadata": {},
   "source": [
    "# Simple addition operation\n",
    "a = tf.constant(5)\n",
    "b = tf.constant(3)\n",
    "c = a + b\n",
    "print(c)"
   ],
   "outputs": [],
   "execution_count": null
  }
 ],
 "metadata": {
  "language_info": {
   "name": "python"
  },
  "kernelspec": {
   "name": "python3",
   "language": "python",
   "display_name": "Python 3 (ipykernel)"
  }
 },
 "nbformat": 4,
 "nbformat_minor": 2
}
