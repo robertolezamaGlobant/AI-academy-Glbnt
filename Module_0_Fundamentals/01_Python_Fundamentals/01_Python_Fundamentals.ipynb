{
 "cells": [
  {
   "attachments": {},
   "cell_type": "markdown",
   "metadata": {},
   "source": [
    "# **Module 0: Python Programming Basics and Libraries**\n",
    "## **Introduction to Python**\n",
    "\n",
    "## *Basic Python syntax*\n",
    "\n",
    "The objective of this module is to understand the basic syntax of Python programming in order to best use its basics during the AI academy.\n",
    "\n",
    "Basic Python syntax refers to the fundamental rules and structures used to write code in this programming language."
   ]
  },
  {
   "attachments": {},
   "cell_type": "markdown",
   "metadata": {},
   "source": [
    "1. Indentation: Python uses indentation to delimit code blocks instead of braces or keywords such as “begin” and “end”. This means that the structure of the code is determined by the amount of whitespace at the beginning of each line. For example:"
   ]
  },
  {
   "cell_type": "code",
   "metadata": {
    "ExecuteTime": {
     "end_time": "2024-06-18T17:28:17.648529Z",
     "start_time": "2024-06-18T17:28:17.642990Z"
    }
   },
   "source": [
    "x = 10\n",
    "\n",
    "if x > 5:\n",
    " print(\"x is greater than 5\")\n",
    "else:\n",
    " print(\"x is less than or equal to 5\")"
   ],
   "outputs": [
    {
     "name": "stdout",
     "output_type": "stream",
     "text": [
      "x is greater than 5\n"
     ]
    }
   ],
   "execution_count": 1
  },
  {
   "attachments": {},
   "cell_type": "markdown",
   "metadata": {},
   "source": [
    "2. Comments: Comments can be added to the code using the # symbol. Comments are ignored by the Python interpreter and serve to document the code."
   ]
  },
  {
   "cell_type": "code",
   "metadata": {
    "ExecuteTime": {
     "end_time": "2024-06-18T17:28:17.653756Z",
     "start_time": "2024-06-18T17:28:17.650813Z"
    }
   },
   "source": [
    "# This is a comment"
   ],
   "outputs": [],
   "execution_count": 2
  },
  {
   "attachments": {},
   "cell_type": "markdown",
   "metadata": {},
   "source": [
    "3. Variables: In Python, variables are defined and assigned in a single line. It is not necessary to declare the variable type since Python is a dynamically typed language.\n"
   ]
  },
  {
   "cell_type": "code",
   "metadata": {
    "ExecuteTime": {
     "end_time": "2024-06-18T17:28:17.675186Z",
     "start_time": "2024-06-18T17:28:17.671046Z"
    }
   },
   "source": [
    "x = 10\n",
    "name = \"Juan\"\n",
    "\n",
    "print(x)\n",
    "print(name)"
   ],
   "outputs": [
    {
     "name": "stdout",
     "output_type": "stream",
     "text": [
      "10\n",
      "Juan\n"
     ]
    }
   ],
   "execution_count": 3
  },
  {
   "attachments": {},
   "cell_type": "markdown",
   "metadata": {},
   "source": [
    "4. Basic data types: Python has several basic data types, such as integers (int), floats (float), strings (str), booleans (bool), among others."
   ]
  },
  {
   "cell_type": "code",
   "metadata": {
    "ExecuteTime": {
     "end_time": "2024-06-18T17:28:17.692841Z",
     "start_time": "2024-06-18T17:28:17.689840Z"
    }
   },
   "source": [
    "number = 10\n",
    "price = 19.99\n",
    "name = \"Juan\"\n",
    "is_valid = True"
   ],
   "outputs": [],
   "execution_count": 4
  },
  {
   "attachments": {},
   "cell_type": "markdown",
   "metadata": {},
   "source": [
    "5. Operators: Python includes arithmetic operators (+, -, *, /, //, %), comparison operators (==, !=, <, >, <=, >=), logical operators (and, or, not), among others."
   ]
  },
  {
   "cell_type": "code",
   "metadata": {
    "ExecuteTime": {
     "end_time": "2024-06-18T17:28:17.775043Z",
     "start_time": "2024-06-18T17:28:17.771672Z"
    }
   },
   "source": [
    "sum = 5 + 3\n",
    "is_equal = (5 == 3)\n",
    "is_valid = (x > 5) and (x < 10)\n",
    "\n",
    "print(sum, is_equal, is_valid)"
   ],
   "outputs": [
    {
     "name": "stdout",
     "output_type": "stream",
     "text": [
      "8 False False\n"
     ]
    }
   ],
   "execution_count": 5
  },
  {
   "attachments": {},
   "cell_type": "markdown",
   "metadata": {},
   "source": [
    "6. strings: Text strings can be defined using single (') or double (\") quotes. They can also be concatenated using the + operator or repeated using the * operator"
   ]
  },
  {
   "cell_type": "code",
   "metadata": {
    "ExecuteTime": {
     "end_time": "2024-06-18T17:28:17.826526Z",
     "start_time": "2024-06-18T17:28:17.822996Z"
    }
   },
   "source": [
    "greeting = \"Hola, \"\n",
    "name = \"Juan\"\n",
    "message = greeting + name\n",
    "\n",
    "print(message)"
   ],
   "outputs": [
    {
     "name": "stdout",
     "output_type": "stream",
     "text": [
      "Hola, Juan\n"
     ]
    }
   ],
   "execution_count": 6
  },
  {
   "cell_type": "code",
   "metadata": {
    "ExecuteTime": {
     "end_time": "2024-06-18T17:28:17.870520Z",
     "start_time": "2024-06-18T17:28:17.866681Z"
    }
   },
   "source": [
    "string = \"Hello\"\n",
    "repeated_string = string * 3\n",
    "print(repeated_string) "
   ],
   "outputs": [
    {
     "name": "stdout",
     "output_type": "stream",
     "text": [
      "HelloHelloHello\n"
     ]
    }
   ],
   "execution_count": 7
  },
  {
   "attachments": {},
   "cell_type": "markdown",
   "metadata": {},
   "source": [
    "These are some of the basic concepts of Python syntax that will allow you to start writing code in this language in a concise and clear way.\n"
   ]
  },
  {
   "attachments": {},
   "cell_type": "markdown",
   "metadata": {},
   "source": [
    "## *Data structures: Lists, dictionaries, tuples, sets*\n",
    "\n",
    "Python data structures are fundamental Python tools that allow you to organize and manipulate data efficiently according to your needs."
   ]
  },
  {
   "attachments": {},
   "cell_type": "markdown",
   "metadata": {},
   "source": [
    "1.  Lists:\n",
    "Definition: A list is an ordered and mutable collection of elements.\n",
    "Syntax: They are defined using square brackets [] and the elements are separated by commas.\n",
    "Example:"
   ]
  },
  {
   "cell_type": "code",
   "metadata": {
    "ExecuteTime": {
     "end_time": "2024-06-18T17:28:17.930878Z",
     "start_time": "2024-06-18T17:28:17.927819Z"
    }
   },
   "source": [
    "lista_numeros = [1, 2, 3, 4, 5]\n",
    "lista_strings = [\"hola\", \"mundo\", \"!\"]\n",
    "lista_mixta = [1, \"dos\", True, 3.14]"
   ],
   "outputs": [],
   "execution_count": 8
  },
  {
   "attachments": {},
   "cell_type": "markdown",
   "metadata": {},
   "source": [
    "2. Dictionaries:\n",
    "Definition: A dictionary is an unordered, mutable collection of key-value pairs.\n",
    "Syntax: They are defined using braces {} and each key-value pair is separated by commas, with the key followed by : and the value.\n",
    "Example:\n"
   ]
  },
  {
   "cell_type": "code",
   "metadata": {
    "ExecuteTime": {
     "end_time": "2024-06-18T17:28:17.960461Z",
     "start_time": "2024-06-18T17:28:17.957565Z"
    }
   },
   "source": [
    "dictionary = {\"name\": \"Juan\", \"age\": 30, \"city\": \"Madrid\"}"
   ],
   "outputs": [],
   "execution_count": 9
  },
  {
   "attachments": {},
   "cell_type": "markdown",
   "metadata": {},
   "source": [
    "3. Tuples:\n",
    "Definition: A tuple is an ordered and immutable collection of elements.\n",
    "Syntax: They are defined using parentheses () and the elements are separated by commas.\n",
    "Example:"
   ]
  },
  {
   "cell_type": "code",
   "metadata": {
    "ExecuteTime": {
     "end_time": "2024-06-18T17:28:18.005079Z",
     "start_time": "2024-06-18T17:28:18.001475Z"
    }
   },
   "source": [
    "pla_numbers = (1, 2, 3, 4, 5)\n",
    "tupla_strings = (\"hello\", \"world\", \"!\")\n",
    "tuple_mixed = (1, \"two\", True, 3.14)"
   ],
   "outputs": [],
   "execution_count": 10
  },
  {
   "attachments": {},
   "cell_type": "markdown",
   "metadata": {},
   "source": [
    "4. Sets:\n",
    "Definition: A set is an unordered, mutable collection of unique elements.\n",
    "Syntax: They are defined using braces {} but without key-value pairs, only with the elements separated by commas.\n",
    "Example:"
   ]
  },
  {
   "cell_type": "code",
   "metadata": {
    "ExecuteTime": {
     "end_time": "2024-06-18T17:28:18.056675Z",
     "start_time": "2024-06-18T17:28:18.053167Z"
    }
   },
   "source": [
    "set_numbers = {1, 2, 3, 4, 5}\n",
    "set_letters = {'a', 'b', 'c'}"
   ],
   "outputs": [],
   "execution_count": 11
  },
  {
   "attachments": {},
   "cell_type": "markdown",
   "metadata": {},
   "source": [
    "## *Bucles y Condicionales*\n",
    "\n",
    "1. Conditionals:\n",
    "\n",
    "In Python, conditionals are used to make decisions based on Boolean conditions.\n",
    "The basic structure of a conditional is as follows:\n",
    "\n",
    "```\n",
    "if condition:\n",
    " # code block if condition is true.\n",
    "elif other_condition:\n",
    " # Code block if other_condition is true.\n",
    "else:\n",
    " # Code block if none of the above conditions is true.\n",
    " \n",
    "```\n",
    "\n",
    "You can use as many elif blocks as you need.\n",
    "The else block is optional and is executed if none of the above conditions is true.\n"
   ]
  },
  {
   "attachments": {},
   "cell_type": "markdown",
   "metadata": {},
   "source": [
    "2. Loops:\n",
    "\n",
    "In Python, there are two types of loops: for and while.\n",
    "For loop:\n",
    "Used to iterate over a sequence (such as a list, tuple, dictionary, etc.).\n",
    "The syntax is:\n",
    "```\n",
    "for element in sequence:\n",
    "# Block of code that executes at each iteration.\n",
    "```\n",
    "\n",
    "While loop:\n",
    "Used to repeat a block of code as long as a condition is met.\n",
    "The syntax is:\n",
    "```\n",
    "while condition:\n",
    "# Block of code that executes as long as the condition is true.\n",
    "```\n",
    "It is important to make sure that the while loop condition eventually becomes false to avoid infinite loops.\n",
    "\n",
    "These are the basics of Python loops and conditionals. They are fundamental tools that allow you to control the flow of your program and perform repetitive tasks efficiently.\n"
   ]
  },
  {
   "attachments": {},
   "cell_type": "markdown",
   "metadata": {},
   "source": [
    "## *Functions and Classes*\n",
    "\n",
    "1. Functions:\n",
    "\n",
    "Functions in Python are reusable blocks of code that perform a specific task.\n",
    "They are defined using the def keyword, followed by the function name and parentheses that may contain input arguments.\n",
    "The basic syntax is as follows:\n",
    "```\n",
    "def function_name(argument1, argument2):\n",
    "# function code block.\n",
    " \t\t\treturn result\n",
    "\n",
    "```\n",
    "You can use return to return a value calculated by the function, but this is optional.\n",
    "Example:"
   ]
  },
  {
   "cell_type": "code",
   "metadata": {
    "ExecuteTime": {
     "end_time": "2024-06-18T17:28:18.108451Z",
     "start_time": "2024-06-18T17:28:18.104450Z"
    }
   },
   "source": [
    "def sum(a, b):\n",
    " return a + b\n",
    "\n",
    "result = sum(3, 5)\n",
    "print(result) # Output: 8"
   ],
   "outputs": [
    {
     "name": "stdout",
     "output_type": "stream",
     "text": [
      "8\n"
     ]
    }
   ],
   "execution_count": 12
  },
  {
   "attachments": {},
   "cell_type": "markdown",
   "metadata": {},
   "source": [
    "2. Classes:\n",
    "\n",
    "Classes in Python are structures that allow you to create objects with properties (attributes) and behaviors (methods).\n",
    "They are defined using the keyword class, followed by the class name and a colon : to start the class definition block.\n",
    "Within the class, you can define attributes using the special __init__() method and methods that represent the behavior of the objects.\n",
    "The basic syntax is as follows:"
   ]
  },
  {
   "cell_type": "code",
   "metadata": {
    "ExecuteTime": {
     "end_time": "2024-06-18T17:28:18.133133Z",
     "start_time": "2024-06-18T17:28:18.129889Z"
    }
   },
   "source": [
    "class ClassName:\n",
    " def __init__(self, argument1, argument2):\n",
    "    self.attribute1 = argument1\n",
    "    self.attribute2 = argument2\n",
    "\n",
    " def method(self):\n",
    " # method code block.\n",
    "    return result"
   ],
   "outputs": [],
   "execution_count": 13
  },
  {
   "attachments": {},
   "cell_type": "markdown",
   "metadata": {},
   "source": [
    "The self parameter is used to refer to the current object.\n",
    "You can access the attributes and methods of a class using the dot notation (object.attribute or object.method()).\n",
    "Example:"
   ]
  },
  {
   "cell_type": "code",
   "metadata": {
    "ExecuteTime": {
     "end_time": "2024-06-18T17:28:18.180626Z",
     "start_time": "2024-06-18T17:28:18.176157Z"
    }
   },
   "source": [
    "class Person:\n",
    " def __init__(self, name, age):\n",
    "    self.name = name\n",
    "    self.age = age\n",
    "\n",
    " def introduce(self):\n",
    "    return f\"Hi! My name is {self.name} and I am {self.age} years old.\"\n",
    "\n",
    "person1 = Person(\"John\", 30)\n",
    "print(person1.introduce()) # Output: Hello! My name is John and I am 30 years old.\n"
   ],
   "outputs": [
    {
     "name": "stdout",
     "output_type": "stream",
     "text": [
      "Hi! My name is John and I am 30 years old.\n"
     ]
    }
   ],
   "execution_count": 14
  },
  {
   "attachments": {},
   "cell_type": "markdown",
   "metadata": {},
   "source": [
    "These are the basics of developing functions and classes in Python. Functions allow you to encapsulate code and reuse it easily, while classes allow you to model objects with specific properties and behaviors."
   ]
  }
 ],
 "metadata": {
  "kernelspec": {
   "display_name": "Python 3",
   "language": "python",
   "name": "python3"
  },
  "language_info": {
   "codemirror_mode": {
    "name": "ipython",
    "version": 3
   },
   "file_extension": ".py",
   "mimetype": "text/x-python",
   "name": "python",
   "nbconvert_exporter": "python",
   "pygments_lexer": "ipython3",
   "version": "3.11.6"
  },
  "orig_nbformat": 4,
  "vscode": {
   "interpreter": {
    "hash": "aee8b7b246df8f9039afb4144a1f6fd8d2ca17a180786b69acc140d282b71a49"
   }
  }
 },
 "nbformat": 4,
 "nbformat_minor": 2
}
