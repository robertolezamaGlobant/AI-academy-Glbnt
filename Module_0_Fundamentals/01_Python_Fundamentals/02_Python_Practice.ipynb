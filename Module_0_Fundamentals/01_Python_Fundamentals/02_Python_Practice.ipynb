{
 "cells": [
  {
   "metadata": {
    "ExecuteTime": {
     "end_time": "2024-06-18T17:28:30.833979Z",
     "start_time": "2024-06-18T17:28:30.827976Z"
    }
   },
   "cell_type": "code",
   "source": [
    "# Exercise 1\n",
    "# Write a program that takes two numbers as input and displays the difference between them.\n",
    "\n",
    "number1 = 5\n",
    "number2 = 3\n",
    "\n",
    "def difference(inp1, inp2):\n",
    "    return inp1 - inp2\n",
    "\n",
    "print(difference(number1, number2))"
   ],
   "outputs": [
    {
     "name": "stdout",
     "output_type": "stream",
     "text": [
      "2\n"
     ]
    }
   ],
   "execution_count": 1
  },
  {
   "cell_type": "code",
   "metadata": {
    "ExecuteTime": {
     "end_time": "2024-06-18T17:28:30.840451Z",
     "start_time": "2024-06-18T17:28:30.836579Z"
    }
   },
   "source": [
    "# Exercise 2\n",
    "# Create a function that takes a string as an argument and prints it in uppercase.\n",
    "\n",
    "myString = \"This is a String\"\n",
    "\n",
    "def touppercase(anystring):\n",
    "    return anystring.upper()\n",
    "\n",
    "print(touppercase(myString))"
   ],
   "outputs": [
    {
     "name": "stdout",
     "output_type": "stream",
     "text": [
      "THIS IS A STRING\n"
     ]
    }
   ],
   "execution_count": 2
  },
  {
   "cell_type": "code",
   "metadata": {
    "ExecuteTime": {
     "end_time": "2024-06-18T17:28:30.847328Z",
     "start_time": "2024-06-18T17:28:30.842349Z"
    }
   },
   "source": [
    "# Exercise 3\n",
    "# Write a program that takes a list of numbers as input and displays the largest number in the list.\n",
    "\n",
    "numbers = [4, 2, 9, 5, 1]\n",
    "\n",
    "def largestnumberinlist(numberlist):\n",
    "    numberlist.sort(reverse=True)\n",
    "    return numberlist.pop(0)\n",
    "\n",
    "print(largestnumberinlist(numbers))"
   ],
   "outputs": [
    {
     "name": "stdout",
     "output_type": "stream",
     "text": [
      "9\n"
     ]
    }
   ],
   "execution_count": 3
  },
  {
   "cell_type": "code",
   "metadata": {
    "ExecuteTime": {
     "end_time": "2024-06-18T17:28:30.853205Z",
     "start_time": "2024-06-18T17:28:30.849201Z"
    }
   },
   "source": [
    "# Exercise 4\n",
    "# Create a function that takes a text string and counts the number of letters it contains.\n",
    "\n",
    "textString = \"Count is going to be big\"\n",
    "\n",
    "def counthowbigisstring(str):\n",
    "    return len(str)\n",
    "\n",
    "print(counthowbigisstring(textString))"
   ],
   "outputs": [
    {
     "name": "stdout",
     "output_type": "stream",
     "text": [
      "24\n"
     ]
    }
   ],
   "execution_count": 4
  },
  {
   "cell_type": "code",
   "metadata": {
    "ExecuteTime": {
     "end_time": "2024-06-18T17:28:30.861959Z",
     "start_time": "2024-06-18T17:28:30.857751Z"
    }
   },
   "source": [
    "# Exercise 5\n",
    "# Write a program that takes a list of words as input and displays the length of each word in the list.\n",
    "\n",
    "words = [\"hello\", \"world\", \"python\"]\n",
    "\n",
    "def lenofelementsonwordlist(wordlist):\n",
    "    for word in wordlist:\n",
    "        print(\"'\" + word + \"'\" + \" has \" + str(len(word)) + \" words\")\n",
    "\n",
    "lenofelementsonwordlist(words)"
   ],
   "outputs": [
    {
     "name": "stdout",
     "output_type": "stream",
     "text": [
      "'hello' has 5 words\n",
      "'world' has 5 words\n",
      "'python' has 6 words\n"
     ]
    }
   ],
   "execution_count": 5
  },
  {
   "cell_type": "code",
   "metadata": {
    "ExecuteTime": {
     "end_time": "2024-06-18T17:28:30.868665Z",
     "start_time": "2024-06-18T17:28:30.864016Z"
    }
   },
   "source": [
    "# Exercise 6\n",
    "# Create a function that takes two numbers as arguments and returns the result of multiplying them.\n",
    "\n",
    "number1 = 5\n",
    "number2 = 3\n",
    "\n",
    "\n",
    "def multiply(num1, num2):\n",
    "    return num1 * num2\n",
    "\n",
    "print(multiply(number1, number2))"
   ],
   "outputs": [
    {
     "name": "stdout",
     "output_type": "stream",
     "text": [
      "15\n"
     ]
    }
   ],
   "execution_count": 6
  },
  {
   "cell_type": "code",
   "metadata": {
    "ExecuteTime": {
     "end_time": "2024-06-18T17:28:30.875573Z",
     "start_time": "2024-06-18T17:28:30.870866Z"
    }
   },
   "source": [
    "# Exercise 7\n",
    "# Write a program that takes a list of numbers as input and displays only the even numbers in the list.\n",
    "\n",
    "\n",
    "numbers = [4, 2, 9, 5, 1]\n",
    "\n",
    "def givemeevennumbers(singlenumber):\n",
    "    return singlenumber % 2 == 0\n",
    "\n",
    "def displayEven(numberlist):\n",
    "    for number in numberlist:\n",
    "        print(\"'\" + str(number) + \"'\" if givemeevennumbers(number) else str(''))\n",
    "        \n",
    "displayEven(numbers)        "
   ],
   "outputs": [
    {
     "name": "stdout",
     "output_type": "stream",
     "text": [
      "'4'\n",
      "'2'\n",
      "\n",
      "\n",
      "\n"
     ]
    }
   ],
   "execution_count": 7
  },
  {
   "cell_type": "code",
   "metadata": {
    "ExecuteTime": {
     "end_time": "2024-06-18T17:28:30.881312Z",
     "start_time": "2024-06-18T17:28:30.877271Z"
    }
   },
   "source": [
    "# Exercise 8\n",
    "# Create a function that takes a string and returns the inverted string.\n",
    "\n",
    "myStringToBeInverted = \"Hello World of Python\"\n",
    "\n",
    "def invertingstring(stringtobeinverted):\n",
    "    return  stringtobeinverted[::-1]\n",
    "\n",
    "print(invertingstring(myStringToBeInverted))"
   ],
   "outputs": [
    {
     "name": "stdout",
     "output_type": "stream",
     "text": [
      "nohtyP fo dlroW olleH\n"
     ]
    }
   ],
   "execution_count": 8
  },
  {
   "cell_type": "code",
   "metadata": {
    "ExecuteTime": {
     "end_time": "2024-06-18T17:28:30.887639Z",
     "start_time": "2024-06-18T17:28:30.882702Z"
    }
   },
   "source": [
    "# Exercise 9\n",
    "# Write a program that takes a list of words as input and displays only words beginning with the letter 'a'.\n",
    "\n",
    "words = [\"car\", \"apple\", \"airplane\", \"dog\", \"cat\"]\n",
    "\n",
    "def listthosestartwitha(wordlist):\n",
    "    for word in wordlist:\n",
    "        if word.startswith(\"a\"):\n",
    "            print(word)\n",
    "\n",
    "print(listthosestartwitha(words))"
   ],
   "outputs": [
    {
     "name": "stdout",
     "output_type": "stream",
     "text": [
      "apple\n",
      "airplane\n",
      "None\n"
     ]
    }
   ],
   "execution_count": 9
  },
  {
   "cell_type": "code",
   "metadata": {
    "ExecuteTime": {
     "end_time": "2024-06-18T17:28:30.895772Z",
     "start_time": "2024-06-18T17:28:30.891725Z"
    }
   },
   "source": [
    "# Exercise 10\n",
    "# Create a function that takes a list of numbers as an argument and returns the sum of all the numbers in the list.\n",
    "\n",
    "\n",
    "numbers = [4, 2, 9, 5, 1]\n",
    "\n",
    "def sumofall(numberslist):\n",
    "    return sum(numberslist)\n",
    "\n",
    "print(sumofall(numbers))"
   ],
   "outputs": [
    {
     "name": "stdout",
     "output_type": "stream",
     "text": [
      "21\n"
     ]
    }
   ],
   "execution_count": 10
  }
 ],
 "metadata": {
  "kernelspec": {
   "display_name": "Python 3",
   "language": "python",
   "name": "python3"
  },
  "language_info": {
   "codemirror_mode": {
    "name": "ipython",
    "version": 3
   },
   "file_extension": ".py",
   "mimetype": "text/x-python",
   "name": "python",
   "nbconvert_exporter": "python",
   "pygments_lexer": "ipython3",
   "version": "3.11.6"
  },
  "orig_nbformat": 4,
  "vscode": {
   "interpreter": {
    "hash": "aee8b7b246df8f9039afb4144a1f6fd8d2ca17a180786b69acc140d282b71a49"
   }
  }
 },
 "nbformat": 4,
 "nbformat_minor": 2
}
